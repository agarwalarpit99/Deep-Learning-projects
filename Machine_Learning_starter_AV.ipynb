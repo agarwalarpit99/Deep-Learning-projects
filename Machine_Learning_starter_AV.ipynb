{
  "nbformat": 4,
  "nbformat_minor": 0,
  "metadata": {
    "colab": {
      "name": "Machine Learning starter AV.ipynb",
      "provenance": [],
      "collapsed_sections": [],
      "mount_file_id": "1tzJXC9gYtHeW-X_VTLD82RseRYjjLi_a",
      "authorship_tag": "ABX9TyP+Ps+ElbQqgnx2p5uBE6TR",
      "include_colab_link": true
    },
    "kernelspec": {
      "name": "python3",
      "display_name": "Python 3"
    }
  },
  "cells": [
    {
      "cell_type": "markdown",
      "metadata": {
        "id": "view-in-github",
        "colab_type": "text"
      },
      "source": [
        "<a href=\"https://colab.research.google.com/github/agarwalarpit99/Deep-Learning-projects/blob/master/Machine_Learning_starter_AV.ipynb\" target=\"_parent\"><img src=\"https://colab.research.google.com/assets/colab-badge.svg\" alt=\"Open In Colab\"/></a>"
      ]
    },
    {
      "cell_type": "code",
      "metadata": {
        "id": "eCYLe2XuD3tk",
        "colab_type": "code",
        "outputId": "eb653e37-5dde-478f-d5ce-67f980e41e45",
        "colab": {
          "base_uri": "https://localhost:8080/",
          "height": 74
        }
      },
      "source": [
        "import pandas as pd\n",
        "import numpy as np\n",
        "import matplotlib.pyplot as plt\n",
        "import seaborn as sns\n",
        "%matplotlib inline"
      ],
      "execution_count": 1,
      "outputs": [
        {
          "output_type": "stream",
          "text": [
            "/usr/local/lib/python3.6/dist-packages/statsmodels/tools/_testing.py:19: FutureWarning: pandas.util.testing is deprecated. Use the functions in the public API at pandas.testing instead.\n",
            "  import pandas.util.testing as tm\n"
          ],
          "name": "stderr"
        }
      ]
    },
    {
      "cell_type": "code",
      "metadata": {
        "id": "cY2erjGfEi6A",
        "colab_type": "code",
        "outputId": "da7a97e8-e277-4cc6-98fe-7171f09c2002",
        "colab": {
          "base_uri": "https://localhost:8080/",
          "height": 253
        }
      },
      "source": [
        "data=pd.read_csv('/content/drive/My Drive/Vidha datasets/train_HK6lq50.csv')\n",
        "test=pd.read_csv('/content/drive/My Drive/Vidha datasets/test_wF0Ps6O.csv')\n",
        "data.head()"
      ],
      "execution_count": 2,
      "outputs": [
        {
          "output_type": "execute_result",
          "data": {
            "text/html": [
              "<div>\n",
              "<style scoped>\n",
              "    .dataframe tbody tr th:only-of-type {\n",
              "        vertical-align: middle;\n",
              "    }\n",
              "\n",
              "    .dataframe tbody tr th {\n",
              "        vertical-align: top;\n",
              "    }\n",
              "\n",
              "    .dataframe thead th {\n",
              "        text-align: right;\n",
              "    }\n",
              "</style>\n",
              "<table border=\"1\" class=\"dataframe\">\n",
              "  <thead>\n",
              "    <tr style=\"text-align: right;\">\n",
              "      <th></th>\n",
              "      <th>id</th>\n",
              "      <th>program_id</th>\n",
              "      <th>program_type</th>\n",
              "      <th>program_duration</th>\n",
              "      <th>test_id</th>\n",
              "      <th>test_type</th>\n",
              "      <th>difficulty_level</th>\n",
              "      <th>trainee_id</th>\n",
              "      <th>gender</th>\n",
              "      <th>education</th>\n",
              "      <th>city_tier</th>\n",
              "      <th>age</th>\n",
              "      <th>total_programs_enrolled</th>\n",
              "      <th>is_handicapped</th>\n",
              "      <th>trainee_engagement_rating</th>\n",
              "      <th>is_pass</th>\n",
              "    </tr>\n",
              "  </thead>\n",
              "  <tbody>\n",
              "    <tr>\n",
              "      <th>0</th>\n",
              "      <td>9389_150</td>\n",
              "      <td>Y_1</td>\n",
              "      <td>Y</td>\n",
              "      <td>136</td>\n",
              "      <td>150</td>\n",
              "      <td>offline</td>\n",
              "      <td>intermediate</td>\n",
              "      <td>9389</td>\n",
              "      <td>M</td>\n",
              "      <td>Matriculation</td>\n",
              "      <td>3</td>\n",
              "      <td>24.0</td>\n",
              "      <td>5</td>\n",
              "      <td>N</td>\n",
              "      <td>1.0</td>\n",
              "      <td>0</td>\n",
              "    </tr>\n",
              "    <tr>\n",
              "      <th>1</th>\n",
              "      <td>16523_44</td>\n",
              "      <td>T_1</td>\n",
              "      <td>T</td>\n",
              "      <td>131</td>\n",
              "      <td>44</td>\n",
              "      <td>offline</td>\n",
              "      <td>easy</td>\n",
              "      <td>16523</td>\n",
              "      <td>F</td>\n",
              "      <td>High School Diploma</td>\n",
              "      <td>4</td>\n",
              "      <td>26.0</td>\n",
              "      <td>2</td>\n",
              "      <td>N</td>\n",
              "      <td>3.0</td>\n",
              "      <td>1</td>\n",
              "    </tr>\n",
              "    <tr>\n",
              "      <th>2</th>\n",
              "      <td>13987_178</td>\n",
              "      <td>Z_2</td>\n",
              "      <td>Z</td>\n",
              "      <td>120</td>\n",
              "      <td>178</td>\n",
              "      <td>online</td>\n",
              "      <td>easy</td>\n",
              "      <td>13987</td>\n",
              "      <td>M</td>\n",
              "      <td>Matriculation</td>\n",
              "      <td>1</td>\n",
              "      <td>40.0</td>\n",
              "      <td>1</td>\n",
              "      <td>N</td>\n",
              "      <td>2.0</td>\n",
              "      <td>1</td>\n",
              "    </tr>\n",
              "    <tr>\n",
              "      <th>3</th>\n",
              "      <td>13158_32</td>\n",
              "      <td>T_2</td>\n",
              "      <td>T</td>\n",
              "      <td>117</td>\n",
              "      <td>32</td>\n",
              "      <td>offline</td>\n",
              "      <td>easy</td>\n",
              "      <td>13158</td>\n",
              "      <td>F</td>\n",
              "      <td>Matriculation</td>\n",
              "      <td>3</td>\n",
              "      <td>NaN</td>\n",
              "      <td>4</td>\n",
              "      <td>N</td>\n",
              "      <td>1.0</td>\n",
              "      <td>1</td>\n",
              "    </tr>\n",
              "    <tr>\n",
              "      <th>4</th>\n",
              "      <td>10591_84</td>\n",
              "      <td>V_3</td>\n",
              "      <td>V</td>\n",
              "      <td>131</td>\n",
              "      <td>84</td>\n",
              "      <td>offline</td>\n",
              "      <td>intermediate</td>\n",
              "      <td>10591</td>\n",
              "      <td>F</td>\n",
              "      <td>High School Diploma</td>\n",
              "      <td>1</td>\n",
              "      <td>42.0</td>\n",
              "      <td>2</td>\n",
              "      <td>N</td>\n",
              "      <td>4.0</td>\n",
              "      <td>1</td>\n",
              "    </tr>\n",
              "  </tbody>\n",
              "</table>\n",
              "</div>"
            ],
            "text/plain": [
              "          id program_id  ... trainee_engagement_rating  is_pass\n",
              "0   9389_150        Y_1  ...                       1.0        0\n",
              "1   16523_44        T_1  ...                       3.0        1\n",
              "2  13987_178        Z_2  ...                       2.0        1\n",
              "3   13158_32        T_2  ...                       1.0        1\n",
              "4   10591_84        V_3  ...                       4.0        1\n",
              "\n",
              "[5 rows x 16 columns]"
            ]
          },
          "metadata": {
            "tags": []
          },
          "execution_count": 2
        }
      ]
    },
    {
      "cell_type": "code",
      "metadata": {
        "id": "--J1qIbDE3-q",
        "colab_type": "code",
        "outputId": "a9dc5130-cce9-458b-8939-1231abc25fb8",
        "colab": {
          "base_uri": "https://localhost:8080/",
          "height": 308
        }
      },
      "source": [
        "data.describe()"
      ],
      "execution_count": 0,
      "outputs": [
        {
          "output_type": "execute_result",
          "data": {
            "text/html": [
              "<div>\n",
              "<style scoped>\n",
              "    .dataframe tbody tr th:only-of-type {\n",
              "        vertical-align: middle;\n",
              "    }\n",
              "\n",
              "    .dataframe tbody tr th {\n",
              "        vertical-align: top;\n",
              "    }\n",
              "\n",
              "    .dataframe thead th {\n",
              "        text-align: right;\n",
              "    }\n",
              "</style>\n",
              "<table border=\"1\" class=\"dataframe\">\n",
              "  <thead>\n",
              "    <tr style=\"text-align: right;\">\n",
              "      <th></th>\n",
              "      <th>program_duration</th>\n",
              "      <th>test_id</th>\n",
              "      <th>trainee_id</th>\n",
              "      <th>city_tier</th>\n",
              "      <th>age</th>\n",
              "      <th>total_programs_enrolled</th>\n",
              "      <th>trainee_engagement_rating</th>\n",
              "      <th>is_pass</th>\n",
              "    </tr>\n",
              "  </thead>\n",
              "  <tbody>\n",
              "    <tr>\n",
              "      <th>count</th>\n",
              "      <td>73147.000000</td>\n",
              "      <td>73147.000000</td>\n",
              "      <td>73147.000000</td>\n",
              "      <td>73147.000000</td>\n",
              "      <td>45418.000000</td>\n",
              "      <td>73147.000000</td>\n",
              "      <td>73070.000000</td>\n",
              "      <td>73147.000000</td>\n",
              "    </tr>\n",
              "    <tr>\n",
              "      <th>mean</th>\n",
              "      <td>128.208676</td>\n",
              "      <td>91.079306</td>\n",
              "      <td>9843.079620</td>\n",
              "      <td>2.246845</td>\n",
              "      <td>36.494033</td>\n",
              "      <td>2.583934</td>\n",
              "      <td>2.395634</td>\n",
              "      <td>0.695408</td>\n",
              "    </tr>\n",
              "    <tr>\n",
              "      <th>std</th>\n",
              "      <td>6.889679</td>\n",
              "      <td>51.239048</td>\n",
              "      <td>5703.556093</td>\n",
              "      <td>1.011587</td>\n",
              "      <td>9.041119</td>\n",
              "      <td>1.240816</td>\n",
              "      <td>1.325288</td>\n",
              "      <td>0.460238</td>\n",
              "    </tr>\n",
              "    <tr>\n",
              "      <th>min</th>\n",
              "      <td>117.000000</td>\n",
              "      <td>0.000000</td>\n",
              "      <td>1.000000</td>\n",
              "      <td>1.000000</td>\n",
              "      <td>17.000000</td>\n",
              "      <td>1.000000</td>\n",
              "      <td>1.000000</td>\n",
              "      <td>0.000000</td>\n",
              "    </tr>\n",
              "    <tr>\n",
              "      <th>25%</th>\n",
              "      <td>121.000000</td>\n",
              "      <td>45.000000</td>\n",
              "      <td>5040.000000</td>\n",
              "      <td>1.000000</td>\n",
              "      <td>28.000000</td>\n",
              "      <td>2.000000</td>\n",
              "      <td>1.000000</td>\n",
              "      <td>0.000000</td>\n",
              "    </tr>\n",
              "    <tr>\n",
              "      <th>50%</th>\n",
              "      <td>131.000000</td>\n",
              "      <td>90.000000</td>\n",
              "      <td>9641.000000</td>\n",
              "      <td>2.000000</td>\n",
              "      <td>39.000000</td>\n",
              "      <td>2.000000</td>\n",
              "      <td>2.000000</td>\n",
              "      <td>1.000000</td>\n",
              "    </tr>\n",
              "    <tr>\n",
              "      <th>75%</th>\n",
              "      <td>134.000000</td>\n",
              "      <td>135.000000</td>\n",
              "      <td>14552.000000</td>\n",
              "      <td>3.000000</td>\n",
              "      <td>45.000000</td>\n",
              "      <td>3.000000</td>\n",
              "      <td>4.000000</td>\n",
              "      <td>1.000000</td>\n",
              "    </tr>\n",
              "    <tr>\n",
              "      <th>max</th>\n",
              "      <td>136.000000</td>\n",
              "      <td>187.000000</td>\n",
              "      <td>20098.000000</td>\n",
              "      <td>4.000000</td>\n",
              "      <td>63.000000</td>\n",
              "      <td>14.000000</td>\n",
              "      <td>5.000000</td>\n",
              "      <td>1.000000</td>\n",
              "    </tr>\n",
              "  </tbody>\n",
              "</table>\n",
              "</div>"
            ],
            "text/plain": [
              "       program_duration       test_id  ...  trainee_engagement_rating       is_pass\n",
              "count      73147.000000  73147.000000  ...               73070.000000  73147.000000\n",
              "mean         128.208676     91.079306  ...                   2.395634      0.695408\n",
              "std            6.889679     51.239048  ...                   1.325288      0.460238\n",
              "min          117.000000      0.000000  ...                   1.000000      0.000000\n",
              "25%          121.000000     45.000000  ...                   1.000000      0.000000\n",
              "50%          131.000000     90.000000  ...                   2.000000      1.000000\n",
              "75%          134.000000    135.000000  ...                   4.000000      1.000000\n",
              "max          136.000000    187.000000  ...                   5.000000      1.000000\n",
              "\n",
              "[8 rows x 8 columns]"
            ]
          },
          "metadata": {
            "tags": []
          },
          "execution_count": 3
        }
      ]
    },
    {
      "cell_type": "code",
      "metadata": {
        "id": "IYrNuDTGFRrC",
        "colab_type": "code",
        "outputId": "354c1609-fc61-480d-a296-8fa26e39ee98",
        "colab": {
          "base_uri": "https://localhost:8080/",
          "height": 435
        }
      },
      "source": [
        "data.info()"
      ],
      "execution_count": 0,
      "outputs": [
        {
          "output_type": "stream",
          "text": [
            "<class 'pandas.core.frame.DataFrame'>\n",
            "RangeIndex: 73147 entries, 0 to 73146\n",
            "Data columns (total 16 columns):\n",
            " #   Column                     Non-Null Count  Dtype  \n",
            "---  ------                     --------------  -----  \n",
            " 0   id                         73147 non-null  object \n",
            " 1   program_id                 73147 non-null  object \n",
            " 2   program_type               73147 non-null  object \n",
            " 3   program_duration           73147 non-null  int64  \n",
            " 4   test_id                    73147 non-null  int64  \n",
            " 5   test_type                  73147 non-null  object \n",
            " 6   difficulty_level           73147 non-null  object \n",
            " 7   trainee_id                 73147 non-null  int64  \n",
            " 8   gender                     73147 non-null  object \n",
            " 9   education                  73147 non-null  object \n",
            " 10  city_tier                  73147 non-null  int64  \n",
            " 11  age                        45418 non-null  float64\n",
            " 12  total_programs_enrolled    73147 non-null  int64  \n",
            " 13  is_handicapped             73147 non-null  object \n",
            " 14  trainee_engagement_rating  73070 non-null  float64\n",
            " 15  is_pass                    73147 non-null  int64  \n",
            "dtypes: float64(2), int64(6), object(8)\n",
            "memory usage: 8.9+ MB\n"
          ],
          "name": "stdout"
        }
      ]
    },
    {
      "cell_type": "code",
      "metadata": {
        "id": "RJoeqX_MFZuJ",
        "colab_type": "code",
        "outputId": "5aa49ef0-6693-40d4-bc26-f5edfed00d0d",
        "colab": {
          "base_uri": "https://localhost:8080/",
          "height": 280
        }
      },
      "source": [
        "data['is_pass'].value_counts(normalize=True).plot.bar()"
      ],
      "execution_count": 0,
      "outputs": [
        {
          "output_type": "execute_result",
          "data": {
            "text/plain": [
              "<matplotlib.axes._subplots.AxesSubplot at 0x7f7f749f4d68>"
            ]
          },
          "metadata": {
            "tags": []
          },
          "execution_count": 3
        },
        {
          "output_type": "display_data",
          "data": {
            "image/png": "[encoded data removed]",
            "text/plain": [
              "<Figure size 432x288 with 1 Axes>"
            ]
          },
          "metadata": {
            "tags": [],
            "needs_background": "light"
          }
        }
      ]
    },
    {
      "cell_type": "code",
      "metadata": {
        "id": "YBBua_PUFsRU",
        "colab_type": "code",
        "outputId": "f404bb26-a803-42e1-9ead-9fa5dd4b5437",
        "colab": {
          "base_uri": "https://localhost:8080/",
          "height": 281
        }
      },
      "source": [
        "#Univariate analysis\n",
        "data['program_type'].value_counts(normalize=True).plot.bar()"
      ],
      "execution_count": 0,
      "outputs": [
        {
          "output_type": "execute_result",
          "data": {
            "text/plain": [
              "<matplotlib.axes._subplots.AxesSubplot at 0x7fcc4d864ac8>"
            ]
          },
          "metadata": {
            "tags": []
          },
          "execution_count": 18
        },
        {
          "output_type": "display_data",
          "data": {
            "image/png": "[encoded data removed]",
            "text/plain": [
              "<Figure size 432x288 with 1 Axes>"
            ]
          },
          "metadata": {
            "tags": [],
            "needs_background": "light"
          }
        }
      ]
    },
    {
      "cell_type": "code",
      "metadata": {
        "id": "hmdfGydlF_Wt",
        "colab_type": "code",
        "outputId": "654a0ac7-5b01-4ef2-80a4-60cd8decd5cc",
        "colab": {
          "base_uri": "https://localhost:8080/",
          "height": 299
        }
      },
      "source": [
        "sns.distplot(data['program_duration'])"
      ],
      "execution_count": 0,
      "outputs": [
        {
          "output_type": "execute_result",
          "data": {
            "text/plain": [
              "<matplotlib.axes._subplots.AxesSubplot at 0x7fcc4df11cf8>"
            ]
          },
          "metadata": {
            "tags": []
          },
          "execution_count": 7
        },
        {
          "output_type": "display_data",
          "data": {
            "image/png": "[encoded data removed]",
            "text/plain": [
              "<Figure size 432x288 with 1 Axes>"
            ]
          },
          "metadata": {
            "tags": [],
            "needs_background": "light"
          }
        }
      ]
    },
    {
      "cell_type": "code",
      "metadata": {
        "id": "nKcJ33neGnqF",
        "colab_type": "code",
        "outputId": "91f63805-cfea-4115-80ba-533952ececb6",
        "colab": {
          "base_uri": "https://localhost:8080/",
          "height": 305
        }
      },
      "source": [
        "data['test_type'].value_counts(normalize=True).plot.bar()"
      ],
      "execution_count": 0,
      "outputs": [
        {
          "output_type": "execute_result",
          "data": {
            "text/plain": [
              "<matplotlib.axes._subplots.AxesSubplot at 0x7fcc4c545f98>"
            ]
          },
          "metadata": {
            "tags": []
          },
          "execution_count": 19
        },
        {
          "output_type": "display_data",
          "data": {
            "image/png": "[encoded data removed]",
            "text/plain": [
              "<Figure size 432x288 with 1 Axes>"
            ]
          },
          "metadata": {
            "tags": [],
            "needs_background": "light"
          }
        }
      ]
    },
    {
      "cell_type": "code",
      "metadata": {
        "id": "cM7o7XUbG9eS",
        "colab_type": "code",
        "outputId": "675d8b9e-04a5-43bc-c8e0-d7df0d2bc9bc",
        "colab": {
          "base_uri": "https://localhost:8080/",
          "height": 338
        }
      },
      "source": [
        "data['difficulty_level'].value_counts(normalize=True).plot.bar()"
      ],
      "execution_count": 0,
      "outputs": [
        {
          "output_type": "execute_result",
          "data": {
            "text/plain": [
              "<matplotlib.axes._subplots.AxesSubplot at 0x7fcc4c497e80>"
            ]
          },
          "metadata": {
            "tags": []
          },
          "execution_count": 21
        },
        {
          "output_type": "display_data",
          "data": {
            "image/png": "[encoded data removed]",
            "text/plain": [
              "<Figure size 432x288 with 1 Axes>"
            ]
          },
          "metadata": {
            "tags": [],
            "needs_background": "light"
          }
        }
      ]
    },
    {
      "cell_type": "code",
      "metadata": {
        "id": "ucApnjqAHMbe",
        "colab_type": "code",
        "outputId": "424674f3-47bb-4d45-d78a-56bee44e113f",
        "colab": {
          "base_uri": "https://localhost:8080/",
          "height": 282
        }
      },
      "source": [
        "data['gender'].value_counts().plot.bar()"
      ],
      "execution_count": 0,
      "outputs": [
        {
          "output_type": "execute_result",
          "data": {
            "text/plain": [
              "<matplotlib.axes._subplots.AxesSubplot at 0x7fcc4dc44908>"
            ]
          },
          "metadata": {
            "tags": []
          },
          "execution_count": 10
        },
        {
          "output_type": "display_data",
          "data": {
            "image/png": "[encoded data removed]",
            "text/plain": [
              "<Figure size 432x288 with 1 Axes>"
            ]
          },
          "metadata": {
            "tags": [],
            "needs_background": "light"
          }
        }
      ]
    },
    {
      "cell_type": "code",
      "metadata": {
        "id": "ltb9d4dIHZot",
        "colab_type": "code",
        "outputId": "c66228ed-e999-4f82-8725-c7e8ae618d76",
        "colab": {
          "base_uri": "https://localhost:8080/",
          "height": 377
        }
      },
      "source": [
        "data['education'].value_counts(normalize=True).plot.bar()"
      ],
      "execution_count": 0,
      "outputs": [
        {
          "output_type": "execute_result",
          "data": {
            "text/plain": [
              "<matplotlib.axes._subplots.AxesSubplot at 0x7fcc4c433e80>"
            ]
          },
          "metadata": {
            "tags": []
          },
          "execution_count": 22
        },
        {
          "output_type": "display_data",
          "data": {
            "image/png": "[encoded data removed]",
            "text/plain": [
              "<Figure size 432x288 with 1 Axes>"
            ]
          },
          "metadata": {
            "tags": [],
            "needs_background": "light"
          }
        }
      ]
    },
    {
      "cell_type": "code",
      "metadata": {
        "id": "JUhdlec6Hfdj",
        "colab_type": "code",
        "outputId": "e5a789d8-98b0-4bd2-e127-3242f5366993",
        "colab": {
          "base_uri": "https://localhost:8080/",
          "height": 280
        }
      },
      "source": [
        "data['city_tier'].value_counts().plot.bar()"
      ],
      "execution_count": 0,
      "outputs": [
        {
          "output_type": "execute_result",
          "data": {
            "text/plain": [
              "<matplotlib.axes._subplots.AxesSubplot at 0x7fcc4db391d0>"
            ]
          },
          "metadata": {
            "tags": []
          },
          "execution_count": 12
        },
        {
          "output_type": "display_data",
          "data": {
            "image/png": "[encoded data removed]",
            "text/plain": [
              "<Figure size 432x288 with 1 Axes>"
            ]
          },
          "metadata": {
            "tags": [],
            "needs_background": "light"
          }
        }
      ]
    },
    {
      "cell_type": "code",
      "metadata": {
        "id": "iW60otvYHtFE",
        "colab_type": "code",
        "outputId": "291799f6-a839-40b6-8a37-f2438f7865a4",
        "colab": {
          "base_uri": "https://localhost:8080/",
          "height": 297
        }
      },
      "source": [
        "sns.distplot(data['age'])"
      ],
      "execution_count": 0,
      "outputs": [
        {
          "output_type": "execute_result",
          "data": {
            "text/plain": [
              "<matplotlib.axes._subplots.AxesSubplot at 0x7fcc4dc62b38>"
            ]
          },
          "metadata": {
            "tags": []
          },
          "execution_count": 13
        },
        {
          "output_type": "display_data",
          "data": {
            "image/png": "[encoded data removed]",
            "text/plain": [
              "<Figure size 432x288 with 1 Axes>"
            ]
          },
          "metadata": {
            "tags": [],
            "needs_background": "light"
          }
        }
      ]
    },
    {
      "cell_type": "code",
      "metadata": {
        "id": "8WcUfEG5H1iq",
        "colab_type": "code",
        "outputId": "10eb24c9-f859-4261-a5fb-a4cb16cdcc92",
        "colab": {
          "base_uri": "https://localhost:8080/",
          "height": 286
        }
      },
      "source": [
        "data['total_programs_enrolled'].value_counts(normalize=True).plot.bar()"
      ],
      "execution_count": 0,
      "outputs": [
        {
          "output_type": "execute_result",
          "data": {
            "text/plain": [
              "<matplotlib.axes._subplots.AxesSubplot at 0x7fcc4c3917f0>"
            ]
          },
          "metadata": {
            "tags": []
          },
          "execution_count": 24
        },
        {
          "output_type": "display_data",
          "data": {
            "image/png": "[encoded data removed]",
            "text/plain": [
              "<Figure size 432x288 with 1 Axes>"
            ]
          },
          "metadata": {
            "tags": [],
            "needs_background": "light"
          }
        }
      ]
    },
    {
      "cell_type": "code",
      "metadata": {
        "id": "dUOI4TGRIKze",
        "colab_type": "code",
        "outputId": "07784e75-867a-42f8-8167-059eeb8aa786",
        "colab": {
          "base_uri": "https://localhost:8080/",
          "height": 281
        }
      },
      "source": [
        "data['is_handicapped'].value_counts(normalize=True).plot.bar()"
      ],
      "execution_count": 0,
      "outputs": [
        {
          "output_type": "execute_result",
          "data": {
            "text/plain": [
              "<matplotlib.axes._subplots.AxesSubplot at 0x7fcc4c341748>"
            ]
          },
          "metadata": {
            "tags": []
          },
          "execution_count": 25
        },
        {
          "output_type": "display_data",
          "data": {
            "image/png": "[encoded data removed]",
            "text/plain": [
              "<Figure size 432x288 with 1 Axes>"
            ]
          },
          "metadata": {
            "tags": [],
            "needs_background": "light"
          }
        }
      ]
    },
    {
      "cell_type": "code",
      "metadata": {
        "id": "XPfch4D7IUjO",
        "colab_type": "code",
        "outputId": "edb4f448-451a-4bfd-9c72-50418d0f7b29",
        "colab": {
          "base_uri": "https://localhost:8080/",
          "height": 289
        }
      },
      "source": [
        "data['trainee_engagement_rating'].value_counts(normalize=True).plot.bar()"
      ],
      "execution_count": 0,
      "outputs": [
        {
          "output_type": "execute_result",
          "data": {
            "text/plain": [
              "<matplotlib.axes._subplots.AxesSubplot at 0x7fcc4c391b70>"
            ]
          },
          "metadata": {
            "tags": []
          },
          "execution_count": 26
        },
        {
          "output_type": "display_data",
          "data": {
            "image/png": "[encoded data removed]",
            "text/plain": [
              "<Figure size 432x288 with 1 Axes>"
            ]
          },
          "metadata": {
            "tags": [],
            "needs_background": "light"
          }
        }
      ]
    },
    {
      "cell_type": "code",
      "metadata": {
        "id": "SDXLcB7LIeWp",
        "colab_type": "code",
        "outputId": "7f97ce42-365e-4d44-db93-d8e1c312dc3f",
        "colab": {
          "base_uri": "https://localhost:8080/",
          "height": 55
        }
      },
      "source": [
        "'''#inferred information\n",
        "1.68% of candidate are pass\n",
        "2.55% candidates give program Y AND T\n",
        "3.60% of the test are offline and 55% of test are easy\n",
        "4.45% of candidate done high school diploma\n",
        "5.55% of candidate enrolled in minimum 2 program\n",
        "6.85% of candidate are normal i.e not handicapped\n",
        "7.57% of candidate have 1 or 2 engagement rating'''"
      ],
      "execution_count": 0,
      "outputs": [
        {
          "output_type": "execute_result",
          "data": {
            "text/plain": [
              "'#inferred information\\n1.68% of candidate are pass\\n2.55% candidates give program Y AND T\\n3.60% of the test are offline and 55% of test are easy\\n4.45% of candidate done high school diploma\\n5.55% of candidate enrolled in minimum 2 program\\n6.85% of candidate are normal i.e not handicapped\\n7.57% of candidate have 1 or 2 engagement rating'"
            ]
          },
          "metadata": {
            "tags": []
          },
          "execution_count": 3
        }
      ]
    },
    {
      "cell_type": "code",
      "metadata": {
        "id": "LD3vKpUuRAXI",
        "colab_type": "code",
        "outputId": "467a9dde-1cee-441f-8964-5f148ad4a130",
        "colab": {
          "base_uri": "https://localhost:8080/",
          "height": 298
        }
      },
      "source": [
        "#Bivariate analysis\n",
        "sns.countplot('is_pass',hue='program_type',data=data)"
      ],
      "execution_count": 0,
      "outputs": [
        {
          "output_type": "execute_result",
          "data": {
            "text/plain": [
              "<matplotlib.axes._subplots.AxesSubplot at 0x7f92304eccc0>"
            ]
          },
          "metadata": {
            "tags": []
          },
          "execution_count": 4
        },
        {
          "output_type": "display_data",
          "data": {
            "image/png": "[encoded data removed]",
            "text/plain": [
              "<Figure size 432x288 with 1 Axes>"
            ]
          },
          "metadata": {
            "tags": [],
            "needs_background": "light"
          }
        }
      ]
    },
    {
      "cell_type": "code",
      "metadata": {
        "id": "b-nkIh9TRRAj",
        "colab_type": "code",
        "colab": {}
      },
      "source": [
        "g=data.groupby('is_pass')['program_duration'].mean()"
      ],
      "execution_count": 0,
      "outputs": []
    },
    {
      "cell_type": "code",
      "metadata": {
        "id": "X_PkF9GESDta",
        "colab_type": "code",
        "outputId": "0180f55a-608e-4868-a3f7-8f3784e3cc31",
        "colab": {
          "base_uri": "https://localhost:8080/",
          "height": 90
        }
      },
      "source": [
        "g"
      ],
      "execution_count": 0,
      "outputs": [
        {
          "output_type": "execute_result",
          "data": {
            "text/plain": [
              "is_pass\n",
              "0    128.171768\n",
              "1    128.224841\n",
              "Name: program_duration, dtype: float64"
            ]
          },
          "metadata": {
            "tags": []
          },
          "execution_count": 13
        }
      ]
    },
    {
      "cell_type": "code",
      "metadata": {
        "id": "VdBBLFyfSGJF",
        "colab_type": "code",
        "outputId": "6aa746b7-e6fc-4d13-f1fe-e58de3f6b973",
        "colab": {
          "base_uri": "https://localhost:8080/",
          "height": 298
        }
      },
      "source": [
        "sns.countplot('is_pass',hue='test_type',data=data)"
      ],
      "execution_count": 0,
      "outputs": [
        {
          "output_type": "execute_result",
          "data": {
            "text/plain": [
              "<matplotlib.axes._subplots.AxesSubplot at 0x7f922f6fe860>"
            ]
          },
          "metadata": {
            "tags": []
          },
          "execution_count": 14
        },
        {
          "output_type": "display_data",
          "data": {
            "image/png": "[encoded data removed]",
            "text/plain": [
              "<Figure size 432x288 with 1 Axes>"
            ]
          },
          "metadata": {
            "tags": [],
            "needs_background": "light"
          }
        }
      ]
    },
    {
      "cell_type": "code",
      "metadata": {
        "id": "OiKOCQFISoTX",
        "colab_type": "code",
        "outputId": "521fd3db-a055-4fa5-b430-a2e8cdbdcf77",
        "colab": {
          "base_uri": "https://localhost:8080/",
          "height": 298
        }
      },
      "source": [
        "sns.countplot('is_pass',hue='difficulty_level',data=data)"
      ],
      "execution_count": 0,
      "outputs": [
        {
          "output_type": "execute_result",
          "data": {
            "text/plain": [
              "<matplotlib.axes._subplots.AxesSubplot at 0x7f922f672f60>"
            ]
          },
          "metadata": {
            "tags": []
          },
          "execution_count": 15
        },
        {
          "output_type": "display_data",
          "data": {
            "image/png": "[encoded data removed]",
            "text/plain": [
              "<Figure size 432x288 with 1 Axes>"
            ]
          },
          "metadata": {
            "tags": [],
            "needs_background": "light"
          }
        }
      ]
    },
    {
      "cell_type": "code",
      "metadata": {
        "id": "nBgHGPwxS3Zg",
        "colab_type": "code",
        "outputId": "fa9994a8-a0ae-4f65-ee02-2fa6fd4f6386",
        "colab": {
          "base_uri": "https://localhost:8080/",
          "height": 298
        }
      },
      "source": [
        "sns.countplot('is_pass',hue='gender',data=data)"
      ],
      "execution_count": 0,
      "outputs": [
        {
          "output_type": "execute_result",
          "data": {
            "text/plain": [
              "<matplotlib.axes._subplots.AxesSubplot at 0x7f922f66e0b8>"
            ]
          },
          "metadata": {
            "tags": []
          },
          "execution_count": 16
        },
        {
          "output_type": "display_data",
          "data": {
            "image/png": "[encoded data removed]",
            "text/plain": [
              "<Figure size 432x288 with 1 Axes>"
            ]
          },
          "metadata": {
            "tags": [],
            "needs_background": "light"
          }
        }
      ]
    },
    {
      "cell_type": "code",
      "metadata": {
        "id": "7hVaKGDUTFrx",
        "colab_type": "code",
        "outputId": "b6b1f49e-2584-4556-e801-6a20b23e273b",
        "colab": {
          "base_uri": "https://localhost:8080/",
          "height": 298
        }
      },
      "source": [
        "sns.countplot('is_pass',hue='education',data=data)"
      ],
      "execution_count": 0,
      "outputs": [
        {
          "output_type": "execute_result",
          "data": {
            "text/plain": [
              "<matplotlib.axes._subplots.AxesSubplot at 0x7f922f5d4358>"
            ]
          },
          "metadata": {
            "tags": []
          },
          "execution_count": 17
        },
        {
          "output_type": "display_data",
          "data": {
            "image/png": "[encoded data removed]",
            "text/plain": [
              "<Figure size 432x288 with 1 Axes>"
            ]
          },
          "metadata": {
            "tags": [],
            "needs_background": "light"
          }
        }
      ]
    },
    {
      "cell_type": "code",
      "metadata": {
        "id": "V2KA3F_UTQZc",
        "colab_type": "code",
        "outputId": "11bf6940-8f4a-4ecf-e303-37dafd2be8a0",
        "colab": {
          "base_uri": "https://localhost:8080/",
          "height": 298
        }
      },
      "source": [
        "sns.countplot('is_pass',hue='city_tier',data=data)"
      ],
      "execution_count": 0,
      "outputs": [
        {
          "output_type": "execute_result",
          "data": {
            "text/plain": [
              "<matplotlib.axes._subplots.AxesSubplot at 0x7f922f6d3550>"
            ]
          },
          "metadata": {
            "tags": []
          },
          "execution_count": 18
        },
        {
          "output_type": "display_data",
          "data": {
            "image/png": "[encoded data removed]",
            "text/plain": [
              "<Figure size 432x288 with 1 Axes>"
            ]
          },
          "metadata": {
            "tags": [],
            "needs_background": "light"
          }
        }
      ]
    },
    {
      "cell_type": "code",
      "metadata": {
        "id": "SMtuOocGTf9X",
        "colab_type": "code",
        "outputId": "436d7595-9c07-4fc6-ce68-f03ea99dc325",
        "colab": {
          "base_uri": "https://localhost:8080/",
          "height": 295
        }
      },
      "source": [
        "agee=data.groupby('is_pass')['age'].median()\n",
        "agee.plot.bar()"
      ],
      "execution_count": 0,
      "outputs": [
        {
          "output_type": "execute_result",
          "data": {
            "text/plain": [
              "<matplotlib.axes._subplots.AxesSubplot at 0x7f7f7427db70>"
            ]
          },
          "metadata": {
            "tags": []
          },
          "execution_count": 9
        },
        {
          "output_type": "display_data",
          "data": {
            "image/png": "[encoded data removed]",
            "text/plain": [
              "<Figure size 432x288 with 1 Axes>"
            ]
          },
          "metadata": {
            "tags": [],
            "needs_background": "light"
          }
        }
      ]
    },
    {
      "cell_type": "code",
      "metadata": {
        "id": "Pt46oHpC-s_-",
        "colab_type": "code",
        "outputId": "0d80faa2-8d0e-4712-f598-b2f54018a8bb",
        "colab": {
          "base_uri": "https://localhost:8080/",
          "height": 90
        }
      },
      "source": [
        "agee"
      ],
      "execution_count": 0,
      "outputs": [
        {
          "output_type": "execute_result",
          "data": {
            "text/plain": [
              "is_pass\n",
              "0    32.0\n",
              "1    41.0\n",
              "Name: age, dtype: float64"
            ]
          },
          "metadata": {
            "tags": []
          },
          "execution_count": 10
        }
      ]
    },
    {
      "cell_type": "code",
      "metadata": {
        "id": "KHrtppVqTzh6",
        "colab_type": "code",
        "outputId": "7ca0c26a-4f81-4c55-f317-0d64ded4cdea",
        "colab": {
          "base_uri": "https://localhost:8080/",
          "height": 300
        }
      },
      "source": [
        "sns.countplot('is_pass',hue='total_programs_enrolled',data=data)"
      ],
      "execution_count": 0,
      "outputs": [
        {
          "output_type": "execute_result",
          "data": {
            "text/plain": [
              "<matplotlib.axes._subplots.AxesSubplot at 0x7f922f39a5f8>"
            ]
          },
          "metadata": {
            "tags": []
          },
          "execution_count": 22
        },
        {
          "output_type": "display_data",
          "data": {
            "image/png": "[encoded data removed]",
            "text/plain": [
              "<Figure size 432x288 with 1 Axes>"
            ]
          },
          "metadata": {
            "tags": [],
            "needs_background": "light"
          }
        }
      ]
    },
    {
      "cell_type": "code",
      "metadata": {
        "id": "tIrxKlxzUXiw",
        "colab_type": "code",
        "outputId": "59126679-31fb-4e4a-d8c5-10fa1971a01b",
        "colab": {
          "base_uri": "https://localhost:8080/",
          "height": 298
        }
      },
      "source": [
        "sns.countplot('is_pass',hue='is_handicapped',data=data)"
      ],
      "execution_count": 0,
      "outputs": [
        {
          "output_type": "execute_result",
          "data": {
            "text/plain": [
              "<matplotlib.axes._subplots.AxesSubplot at 0x7f922f2c79e8>"
            ]
          },
          "metadata": {
            "tags": []
          },
          "execution_count": 23
        },
        {
          "output_type": "display_data",
          "data": {
            "image/png": "[encoded data removed]",
            "text/plain": [
              "<Figure size 432x288 with 1 Axes>"
            ]
          },
          "metadata": {
            "tags": [],
            "needs_background": "light"
          }
        }
      ]
    },
    {
      "cell_type": "code",
      "metadata": {
        "id": "LGu8SQXAU0jU",
        "colab_type": "code",
        "outputId": "95473cae-785c-4ca8-c61e-ef747eebd2a2",
        "colab": {
          "base_uri": "https://localhost:8080/",
          "height": 298
        }
      },
      "source": [
        "sns.countplot('is_pass',hue='trainee_engagement_rating',data=data)"
      ],
      "execution_count": 0,
      "outputs": [
        {
          "output_type": "execute_result",
          "data": {
            "text/plain": [
              "<matplotlib.axes._subplots.AxesSubplot at 0x7f7f73a766a0>"
            ]
          },
          "metadata": {
            "tags": []
          },
          "execution_count": 37
        },
        {
          "output_type": "display_data",
          "data": {
            "image/png": "[encoded data removed]",
            "text/plain": [
              "<Figure size 432x288 with 1 Axes>"
            ]
          },
          "metadata": {
            "tags": [],
            "needs_background": "light"
          }
        }
      ]
    },
    {
      "cell_type": "code",
      "metadata": {
        "id": "UucKDOxZU_v2",
        "colab_type": "code",
        "outputId": "d797b12f-a7cd-4de9-ac77-ecb5b4b0a2eb",
        "colab": {
          "base_uri": "https://localhost:8080/",
          "height": 417
        }
      },
      "source": [
        "test.info()"
      ],
      "execution_count": 0,
      "outputs": [
        {
          "output_type": "stream",
          "text": [
            "<class 'pandas.core.frame.DataFrame'>\n",
            "RangeIndex: 31349 entries, 0 to 31348\n",
            "Data columns (total 15 columns):\n",
            " #   Column                     Non-Null Count  Dtype  \n",
            "---  ------                     --------------  -----  \n",
            " 0   id                         31349 non-null  object \n",
            " 1   program_id                 31349 non-null  object \n",
            " 2   program_type               31349 non-null  object \n",
            " 3   program_duration           31349 non-null  int64  \n",
            " 4   test_id                    31349 non-null  int64  \n",
            " 5   test_type                  31349 non-null  object \n",
            " 6   difficulty_level           31349 non-null  object \n",
            " 7   trainee_id                 31349 non-null  int64  \n",
            " 8   gender                     31349 non-null  object \n",
            " 9   education                  31349 non-null  object \n",
            " 10  city_tier                  31349 non-null  int64  \n",
            " 11  age                        19558 non-null  float64\n",
            " 12  total_programs_enrolled    31349 non-null  int64  \n",
            " 13  is_handicapped             31349 non-null  object \n",
            " 14  trainee_engagement_rating  31349 non-null  float64\n",
            "dtypes: float64(2), int64(5), object(8)\n",
            "memory usage: 3.6+ MB\n"
          ],
          "name": "stdout"
        }
      ]
    },
    {
      "cell_type": "code",
      "metadata": {
        "id": "hOPa6tkKeDWJ",
        "colab_type": "code",
        "colab": {}
      },
      "source": [
        "def age(strg):\n",
        "  if strg==1:\n",
        "    return 41\n",
        "  else:\n",
        "    return 32\n",
        "    "
      ],
      "execution_count": 0,
      "outputs": []
    },
    {
      "cell_type": "code",
      "metadata": {
        "id": "9uCg0h8l_NDZ",
        "colab_type": "code",
        "colab": {}
      },
      "source": [
        "data['age']=data['age'].fillna(data['is_pass'].apply(lambda x :age(x)))"
      ],
      "execution_count": 0,
      "outputs": []
    },
    {
      "cell_type": "code",
      "metadata": {
        "id": "kywLdBwE_ilP",
        "colab_type": "code",
        "colab": {}
      },
      "source": [
        "test['age']=test['age'].fillna(test['age'].mean(),inplace=True)"
      ],
      "execution_count": 0,
      "outputs": []
    },
    {
      "cell_type": "code",
      "metadata": {
        "id": "9VyzWLbF_-1N",
        "colab_type": "code",
        "colab": {}
      },
      "source": [
        "data['trainee_engagement_rating'].fillna(data['trainee_engagement_rating'].mode()[0],inplace=True)"
      ],
      "execution_count": 0,
      "outputs": []
    },
    {
      "cell_type": "code",
      "metadata": {
        "id": "Ri7n97wLBgxJ",
        "colab_type": "code",
        "outputId": "c525cf05-25ec-41e3-fea0-e552bd069b91",
        "colab": {
          "base_uri": "https://localhost:8080/",
          "height": 235
        }
      },
      "source": [
        "data['trainee_engagement_rating']"
      ],
      "execution_count": 7,
      "outputs": [
        {
          "output_type": "execute_result",
          "data": {
            "text/plain": [
              "0        1.0\n",
              "1        3.0\n",
              "2        2.0\n",
              "3        1.0\n",
              "4        4.0\n",
              "        ... \n",
              "73142    2.0\n",
              "73143    2.0\n",
              "73144    4.0\n",
              "73145    2.0\n",
              "73146    4.0\n",
              "Name: trainee_engagement_rating, Length: 73147, dtype: float64"
            ]
          },
          "metadata": {
            "tags": []
          },
          "execution_count": 7
        }
      ]
    },
    {
      "cell_type": "code",
      "metadata": {
        "id": "vCal1-cKB1Lw",
        "colab_type": "code",
        "colab": {}
      },
      "source": [
        "test['trainee_engagement_rating'].fillna(test['trainee_engagement_rating'].mode()[0],inplace=True)"
      ],
      "execution_count": 0,
      "outputs": []
    },
    {
      "cell_type": "code",
      "metadata": {
        "id": "h-VwKHHxDSCQ",
        "colab_type": "code",
        "outputId": "46ef501d-2472-4a4d-a59f-ea553ac707e9",
        "colab": {
          "base_uri": "https://localhost:8080/",
          "height": 435
        }
      },
      "source": [
        "data.info()"
      ],
      "execution_count": 0,
      "outputs": [
        {
          "output_type": "stream",
          "text": [
            "<class 'pandas.core.frame.DataFrame'>\n",
            "RangeIndex: 73147 entries, 0 to 73146\n",
            "Data columns (total 16 columns):\n",
            " #   Column                     Non-Null Count  Dtype  \n",
            "---  ------                     --------------  -----  \n",
            " 0   id                         73147 non-null  object \n",
            " 1   program_id                 73147 non-null  object \n",
            " 2   program_type               73147 non-null  object \n",
            " 3   program_duration           73147 non-null  int64  \n",
            " 4   test_id                    73147 non-null  int64  \n",
            " 5   test_type                  73147 non-null  object \n",
            " 6   difficulty_level           73147 non-null  object \n",
            " 7   trainee_id                 73147 non-null  int64  \n",
            " 8   gender                     73147 non-null  object \n",
            " 9   education                  73147 non-null  object \n",
            " 10  city_tier                  73147 non-null  int64  \n",
            " 11  age                        73147 non-null  float64\n",
            " 12  total_programs_enrolled    73147 non-null  int64  \n",
            " 13  is_handicapped             73147 non-null  object \n",
            " 14  trainee_engagement_rating  73147 non-null  float64\n",
            " 15  is_pass                    73147 non-null  int64  \n",
            "dtypes: float64(2), int64(6), object(8)\n",
            "memory usage: 8.9+ MB\n"
          ],
          "name": "stdout"
        }
      ]
    },
    {
      "cell_type": "code",
      "metadata": {
        "id": "DTibgYz1DmDN",
        "colab_type": "code",
        "outputId": "4278990f-7ad4-4013-ccea-fe81f5e25fa0",
        "colab": {
          "base_uri": "https://localhost:8080/",
          "height": 253
        }
      },
      "source": [
        "data.head()"
      ],
      "execution_count": 0,
      "outputs": [
        {
          "output_type": "execute_result",
          "data": {
            "text/html": [
              "<div>\n",
              "<style scoped>\n",
              "    .dataframe tbody tr th:only-of-type {\n",
              "        vertical-align: middle;\n",
              "    }\n",
              "\n",
              "    .dataframe tbody tr th {\n",
              "        vertical-align: top;\n",
              "    }\n",
              "\n",
              "    .dataframe thead th {\n",
              "        text-align: right;\n",
              "    }\n",
              "</style>\n",
              "<table border=\"1\" class=\"dataframe\">\n",
              "  <thead>\n",
              "    <tr style=\"text-align: right;\">\n",
              "      <th></th>\n",
              "      <th>id</th>\n",
              "      <th>program_id</th>\n",
              "      <th>program_type</th>\n",
              "      <th>program_duration</th>\n",
              "      <th>test_id</th>\n",
              "      <th>test_type</th>\n",
              "      <th>difficulty_level</th>\n",
              "      <th>trainee_id</th>\n",
              "      <th>gender</th>\n",
              "      <th>education</th>\n",
              "      <th>city_tier</th>\n",
              "      <th>age</th>\n",
              "      <th>total_programs_enrolled</th>\n",
              "      <th>is_handicapped</th>\n",
              "      <th>trainee_engagement_rating</th>\n",
              "      <th>is_pass</th>\n",
              "    </tr>\n",
              "  </thead>\n",
              "  <tbody>\n",
              "    <tr>\n",
              "      <th>0</th>\n",
              "      <td>9389_150</td>\n",
              "      <td>Y_1</td>\n",
              "      <td>Y</td>\n",
              "      <td>136</td>\n",
              "      <td>150</td>\n",
              "      <td>offline</td>\n",
              "      <td>intermediate</td>\n",
              "      <td>9389</td>\n",
              "      <td>M</td>\n",
              "      <td>Matriculation</td>\n",
              "      <td>3</td>\n",
              "      <td>24.0</td>\n",
              "      <td>5</td>\n",
              "      <td>N</td>\n",
              "      <td>1.0</td>\n",
              "      <td>0</td>\n",
              "    </tr>\n",
              "    <tr>\n",
              "      <th>1</th>\n",
              "      <td>16523_44</td>\n",
              "      <td>T_1</td>\n",
              "      <td>T</td>\n",
              "      <td>131</td>\n",
              "      <td>44</td>\n",
              "      <td>offline</td>\n",
              "      <td>easy</td>\n",
              "      <td>16523</td>\n",
              "      <td>F</td>\n",
              "      <td>High School Diploma</td>\n",
              "      <td>4</td>\n",
              "      <td>26.0</td>\n",
              "      <td>2</td>\n",
              "      <td>N</td>\n",
              "      <td>3.0</td>\n",
              "      <td>1</td>\n",
              "    </tr>\n",
              "    <tr>\n",
              "      <th>2</th>\n",
              "      <td>13987_178</td>\n",
              "      <td>Z_2</td>\n",
              "      <td>Z</td>\n",
              "      <td>120</td>\n",
              "      <td>178</td>\n",
              "      <td>online</td>\n",
              "      <td>easy</td>\n",
              "      <td>13987</td>\n",
              "      <td>M</td>\n",
              "      <td>Matriculation</td>\n",
              "      <td>1</td>\n",
              "      <td>40.0</td>\n",
              "      <td>1</td>\n",
              "      <td>N</td>\n",
              "      <td>2.0</td>\n",
              "      <td>1</td>\n",
              "    </tr>\n",
              "    <tr>\n",
              "      <th>3</th>\n",
              "      <td>13158_32</td>\n",
              "      <td>T_2</td>\n",
              "      <td>T</td>\n",
              "      <td>117</td>\n",
              "      <td>32</td>\n",
              "      <td>offline</td>\n",
              "      <td>easy</td>\n",
              "      <td>13158</td>\n",
              "      <td>F</td>\n",
              "      <td>Matriculation</td>\n",
              "      <td>3</td>\n",
              "      <td>41.0</td>\n",
              "      <td>4</td>\n",
              "      <td>N</td>\n",
              "      <td>1.0</td>\n",
              "      <td>1</td>\n",
              "    </tr>\n",
              "    <tr>\n",
              "      <th>4</th>\n",
              "      <td>10591_84</td>\n",
              "      <td>V_3</td>\n",
              "      <td>V</td>\n",
              "      <td>131</td>\n",
              "      <td>84</td>\n",
              "      <td>offline</td>\n",
              "      <td>intermediate</td>\n",
              "      <td>10591</td>\n",
              "      <td>F</td>\n",
              "      <td>High School Diploma</td>\n",
              "      <td>1</td>\n",
              "      <td>42.0</td>\n",
              "      <td>2</td>\n",
              "      <td>N</td>\n",
              "      <td>4.0</td>\n",
              "      <td>1</td>\n",
              "    </tr>\n",
              "  </tbody>\n",
              "</table>\n",
              "</div>"
            ],
            "text/plain": [
              "          id program_id  ... trainee_engagement_rating  is_pass\n",
              "0   9389_150        Y_1  ...                       1.0        0\n",
              "1   16523_44        T_1  ...                       3.0        1\n",
              "2  13987_178        Z_2  ...                       2.0        1\n",
              "3   13158_32        T_2  ...                       1.0        1\n",
              "4   10591_84        V_3  ...                       4.0        1\n",
              "\n",
              "[5 rows x 16 columns]"
            ]
          },
          "metadata": {
            "tags": []
          },
          "execution_count": 46
        }
      ]
    },
    {
      "cell_type": "code",
      "metadata": {
        "id": "bKlJjDqxDpDg",
        "colab_type": "code",
        "colab": {}
      },
      "source": [
        "data.drop(['id','program_id','test_id','trainee_id'],axis=1,inplace=True)\n",
        "test.drop(['id','program_id','test_id','trainee_id'],axis=1,inplace=True)"
      ],
      "execution_count": 0,
      "outputs": []
    },
    {
      "cell_type": "code",
      "metadata": {
        "id": "lKEsf8mnD9vq",
        "colab_type": "code",
        "outputId": "6a98f9b7-a45a-4068-cb72-8fd4c8ebe09d",
        "colab": {
          "base_uri": "https://localhost:8080/",
          "height": 253
        }
      },
      "source": [
        "data.head()"
      ],
      "execution_count": 0,
      "outputs": [
        {
          "output_type": "execute_result",
          "data": {
            "text/html": [
              "<div>\n",
              "<style scoped>\n",
              "    .dataframe tbody tr th:only-of-type {\n",
              "        vertical-align: middle;\n",
              "    }\n",
              "\n",
              "    .dataframe tbody tr th {\n",
              "        vertical-align: top;\n",
              "    }\n",
              "\n",
              "    .dataframe thead th {\n",
              "        text-align: right;\n",
              "    }\n",
              "</style>\n",
              "<table border=\"1\" class=\"dataframe\">\n",
              "  <thead>\n",
              "    <tr style=\"text-align: right;\">\n",
              "      <th></th>\n",
              "      <th>program_type</th>\n",
              "      <th>program_duration</th>\n",
              "      <th>test_type</th>\n",
              "      <th>difficulty_level</th>\n",
              "      <th>gender</th>\n",
              "      <th>education</th>\n",
              "      <th>city_tier</th>\n",
              "      <th>age</th>\n",
              "      <th>total_programs_enrolled</th>\n",
              "      <th>is_handicapped</th>\n",
              "      <th>trainee_engagement_rating</th>\n",
              "      <th>is_pass</th>\n",
              "    </tr>\n",
              "  </thead>\n",
              "  <tbody>\n",
              "    <tr>\n",
              "      <th>0</th>\n",
              "      <td>Y</td>\n",
              "      <td>136</td>\n",
              "      <td>offline</td>\n",
              "      <td>intermediate</td>\n",
              "      <td>M</td>\n",
              "      <td>Matriculation</td>\n",
              "      <td>3</td>\n",
              "      <td>24.0</td>\n",
              "      <td>5</td>\n",
              "      <td>N</td>\n",
              "      <td>1.0</td>\n",
              "      <td>0</td>\n",
              "    </tr>\n",
              "    <tr>\n",
              "      <th>1</th>\n",
              "      <td>T</td>\n",
              "      <td>131</td>\n",
              "      <td>offline</td>\n",
              "      <td>easy</td>\n",
              "      <td>F</td>\n",
              "      <td>High School Diploma</td>\n",
              "      <td>4</td>\n",
              "      <td>26.0</td>\n",
              "      <td>2</td>\n",
              "      <td>N</td>\n",
              "      <td>3.0</td>\n",
              "      <td>1</td>\n",
              "    </tr>\n",
              "    <tr>\n",
              "      <th>2</th>\n",
              "      <td>Z</td>\n",
              "      <td>120</td>\n",
              "      <td>online</td>\n",
              "      <td>easy</td>\n",
              "      <td>M</td>\n",
              "      <td>Matriculation</td>\n",
              "      <td>1</td>\n",
              "      <td>40.0</td>\n",
              "      <td>1</td>\n",
              "      <td>N</td>\n",
              "      <td>2.0</td>\n",
              "      <td>1</td>\n",
              "    </tr>\n",
              "    <tr>\n",
              "      <th>3</th>\n",
              "      <td>T</td>\n",
              "      <td>117</td>\n",
              "      <td>offline</td>\n",
              "      <td>easy</td>\n",
              "      <td>F</td>\n",
              "      <td>Matriculation</td>\n",
              "      <td>3</td>\n",
              "      <td>41.0</td>\n",
              "      <td>4</td>\n",
              "      <td>N</td>\n",
              "      <td>1.0</td>\n",
              "      <td>1</td>\n",
              "    </tr>\n",
              "    <tr>\n",
              "      <th>4</th>\n",
              "      <td>V</td>\n",
              "      <td>131</td>\n",
              "      <td>offline</td>\n",
              "      <td>intermediate</td>\n",
              "      <td>F</td>\n",
              "      <td>High School Diploma</td>\n",
              "      <td>1</td>\n",
              "      <td>42.0</td>\n",
              "      <td>2</td>\n",
              "      <td>N</td>\n",
              "      <td>4.0</td>\n",
              "      <td>1</td>\n",
              "    </tr>\n",
              "  </tbody>\n",
              "</table>\n",
              "</div>"
            ],
            "text/plain": [
              "  program_type  program_duration  ... trainee_engagement_rating is_pass\n",
              "0            Y               136  ...                       1.0       0\n",
              "1            T               131  ...                       3.0       1\n",
              "2            Z               120  ...                       2.0       1\n",
              "3            T               117  ...                       1.0       1\n",
              "4            V               131  ...                       4.0       1\n",
              "\n",
              "[5 rows x 12 columns]"
            ]
          },
          "metadata": {
            "tags": []
          },
          "execution_count": 48
        }
      ]
    },
    {
      "cell_type": "code",
      "metadata": {
        "id": "YnTMYrqSEAPE",
        "colab_type": "code",
        "colab": {}
      },
      "source": [
        "from sklearn.preprocessing import LabelEncoder\n",
        "lb=LabelEncoder()\n",
        "data['program_type']=lb.fit_transform(data['program_type'])"
      ],
      "execution_count": 0,
      "outputs": []
    },
    {
      "cell_type": "code",
      "metadata": {
        "id": "iNbFMWthEvXk",
        "colab_type": "code",
        "colab": {}
      },
      "source": [
        "test['program_type']=lb.fit_transform(test['program_type'])"
      ],
      "execution_count": 0,
      "outputs": []
    },
    {
      "cell_type": "code",
      "metadata": {
        "id": "EqvLkRi0ExHL",
        "colab_type": "code",
        "colab": {}
      },
      "source": [
        "data['test_type']=lb.fit_transform(data['test_type'])\n",
        "test['test_type']=lb.fit_transform(test['test_type'])"
      ],
      "execution_count": 0,
      "outputs": []
    },
    {
      "cell_type": "code",
      "metadata": {
        "id": "E8KZ51bnFRjk",
        "colab_type": "code",
        "colab": {}
      },
      "source": [
        "data['difficulty_level']=lb.fit_transform(data['difficulty_level'])\n",
        "test['difficulty_level']=lb.fit_transform(test['difficulty_level'])"
      ],
      "execution_count": 0,
      "outputs": []
    },
    {
      "cell_type": "code",
      "metadata": {
        "id": "LAcTSiegF5QM",
        "colab_type": "code",
        "outputId": "9b65fbac-d4c9-4151-fec3-f39adbb3d4c4",
        "colab": {
          "base_uri": "https://localhost:8080/",
          "height": 253
        }
      },
      "source": [
        "data.head()"
      ],
      "execution_count": 0,
      "outputs": [
        {
          "output_type": "execute_result",
          "data": {
            "text/html": [
              "<div>\n",
              "<style scoped>\n",
              "    .dataframe tbody tr th:only-of-type {\n",
              "        vertical-align: middle;\n",
              "    }\n",
              "\n",
              "    .dataframe tbody tr th {\n",
              "        vertical-align: top;\n",
              "    }\n",
              "\n",
              "    .dataframe thead th {\n",
              "        text-align: right;\n",
              "    }\n",
              "</style>\n",
              "<table border=\"1\" class=\"dataframe\">\n",
              "  <thead>\n",
              "    <tr style=\"text-align: right;\">\n",
              "      <th></th>\n",
              "      <th>program_type</th>\n",
              "      <th>program_duration</th>\n",
              "      <th>test_type</th>\n",
              "      <th>difficulty_level</th>\n",
              "      <th>gender</th>\n",
              "      <th>education</th>\n",
              "      <th>city_tier</th>\n",
              "      <th>age</th>\n",
              "      <th>total_programs_enrolled</th>\n",
              "      <th>is_handicapped</th>\n",
              "      <th>trainee_engagement_rating</th>\n",
              "      <th>is_pass</th>\n",
              "    </tr>\n",
              "  </thead>\n",
              "  <tbody>\n",
              "    <tr>\n",
              "      <th>0</th>\n",
              "      <td>5</td>\n",
              "      <td>136</td>\n",
              "      <td>0</td>\n",
              "      <td>2</td>\n",
              "      <td>M</td>\n",
              "      <td>Matriculation</td>\n",
              "      <td>3</td>\n",
              "      <td>24.0</td>\n",
              "      <td>5</td>\n",
              "      <td>N</td>\n",
              "      <td>1.0</td>\n",
              "      <td>0</td>\n",
              "    </tr>\n",
              "    <tr>\n",
              "      <th>1</th>\n",
              "      <td>1</td>\n",
              "      <td>131</td>\n",
              "      <td>0</td>\n",
              "      <td>0</td>\n",
              "      <td>F</td>\n",
              "      <td>High School Diploma</td>\n",
              "      <td>4</td>\n",
              "      <td>26.0</td>\n",
              "      <td>2</td>\n",
              "      <td>N</td>\n",
              "      <td>3.0</td>\n",
              "      <td>1</td>\n",
              "    </tr>\n",
              "    <tr>\n",
              "      <th>2</th>\n",
              "      <td>6</td>\n",
              "      <td>120</td>\n",
              "      <td>1</td>\n",
              "      <td>0</td>\n",
              "      <td>M</td>\n",
              "      <td>Matriculation</td>\n",
              "      <td>1</td>\n",
              "      <td>40.0</td>\n",
              "      <td>1</td>\n",
              "      <td>N</td>\n",
              "      <td>2.0</td>\n",
              "      <td>1</td>\n",
              "    </tr>\n",
              "    <tr>\n",
              "      <th>3</th>\n",
              "      <td>1</td>\n",
              "      <td>117</td>\n",
              "      <td>0</td>\n",
              "      <td>0</td>\n",
              "      <td>F</td>\n",
              "      <td>Matriculation</td>\n",
              "      <td>3</td>\n",
              "      <td>41.0</td>\n",
              "      <td>4</td>\n",
              "      <td>N</td>\n",
              "      <td>1.0</td>\n",
              "      <td>1</td>\n",
              "    </tr>\n",
              "    <tr>\n",
              "      <th>4</th>\n",
              "      <td>3</td>\n",
              "      <td>131</td>\n",
              "      <td>0</td>\n",
              "      <td>2</td>\n",
              "      <td>F</td>\n",
              "      <td>High School Diploma</td>\n",
              "      <td>1</td>\n",
              "      <td>42.0</td>\n",
              "      <td>2</td>\n",
              "      <td>N</td>\n",
              "      <td>4.0</td>\n",
              "      <td>1</td>\n",
              "    </tr>\n",
              "  </tbody>\n",
              "</table>\n",
              "</div>"
            ],
            "text/plain": [
              "   program_type  program_duration  ...  trainee_engagement_rating  is_pass\n",
              "0             5               136  ...                        1.0        0\n",
              "1             1               131  ...                        3.0        1\n",
              "2             6               120  ...                        2.0        1\n",
              "3             1               117  ...                        1.0        1\n",
              "4             3               131  ...                        4.0        1\n",
              "\n",
              "[5 rows x 12 columns]"
            ]
          },
          "metadata": {
            "tags": []
          },
          "execution_count": 54
        }
      ]
    },
    {
      "cell_type": "code",
      "metadata": {
        "id": "ERxgnbOaF7D3",
        "colab_type": "code",
        "colab": {}
      },
      "source": [
        "data['gender']=lb.fit_transform(data['gender'])\n",
        "test['gender']=lb.fit_transform(test['gender'])"
      ],
      "execution_count": 0,
      "outputs": []
    },
    {
      "cell_type": "code",
      "metadata": {
        "id": "JXJgR5kBGOqD",
        "colab_type": "code",
        "colab": {}
      },
      "source": [
        "data['education']=lb.fit_transform(data['education'])\n",
        "test['education']=lb.fit_transform(test['education'])"
      ],
      "execution_count": 0,
      "outputs": []
    },
    {
      "cell_type": "code",
      "metadata": {
        "id": "p3L3RSOMGauQ",
        "colab_type": "code",
        "colab": {}
      },
      "source": [
        "data['is_handicapped']=lb.fit_transform(data['is_handicapped'])\n",
        "test['is_handicapped']=lb.fit_transform(test['is_handicapped'])"
      ],
      "execution_count": 0,
      "outputs": []
    },
    {
      "cell_type": "code",
      "metadata": {
        "id": "OaoQQiGJG6_5",
        "colab_type": "code",
        "outputId": "82afb031-a743-46aa-d194-c451379651d3",
        "colab": {
          "base_uri": "https://localhost:8080/",
          "height": 218
        }
      },
      "source": [
        "data.head()"
      ],
      "execution_count": 0,
      "outputs": [
        {
          "output_type": "execute_result",
          "data": {
            "text/html": [
              "<div>\n",
              "<style scoped>\n",
              "    .dataframe tbody tr th:only-of-type {\n",
              "        vertical-align: middle;\n",
              "    }\n",
              "\n",
              "    .dataframe tbody tr th {\n",
              "        vertical-align: top;\n",
              "    }\n",
              "\n",
              "    .dataframe thead th {\n",
              "        text-align: right;\n",
              "    }\n",
              "</style>\n",
              "<table border=\"1\" class=\"dataframe\">\n",
              "  <thead>\n",
              "    <tr style=\"text-align: right;\">\n",
              "      <th></th>\n",
              "      <th>program_type</th>\n",
              "      <th>program_duration</th>\n",
              "      <th>test_type</th>\n",
              "      <th>difficulty_level</th>\n",
              "      <th>gender</th>\n",
              "      <th>education</th>\n",
              "      <th>city_tier</th>\n",
              "      <th>age</th>\n",
              "      <th>total_programs_enrolled</th>\n",
              "      <th>is_handicapped</th>\n",
              "      <th>trainee_engagement_rating</th>\n",
              "      <th>is_pass</th>\n",
              "    </tr>\n",
              "  </thead>\n",
              "  <tbody>\n",
              "    <tr>\n",
              "      <th>0</th>\n",
              "      <td>5</td>\n",
              "      <td>136</td>\n",
              "      <td>0</td>\n",
              "      <td>2</td>\n",
              "      <td>1</td>\n",
              "      <td>3</td>\n",
              "      <td>3</td>\n",
              "      <td>24.0</td>\n",
              "      <td>5</td>\n",
              "      <td>0</td>\n",
              "      <td>1.0</td>\n",
              "      <td>0</td>\n",
              "    </tr>\n",
              "    <tr>\n",
              "      <th>1</th>\n",
              "      <td>1</td>\n",
              "      <td>131</td>\n",
              "      <td>0</td>\n",
              "      <td>0</td>\n",
              "      <td>0</td>\n",
              "      <td>1</td>\n",
              "      <td>4</td>\n",
              "      <td>26.0</td>\n",
              "      <td>2</td>\n",
              "      <td>0</td>\n",
              "      <td>3.0</td>\n",
              "      <td>1</td>\n",
              "    </tr>\n",
              "    <tr>\n",
              "      <th>2</th>\n",
              "      <td>6</td>\n",
              "      <td>120</td>\n",
              "      <td>1</td>\n",
              "      <td>0</td>\n",
              "      <td>1</td>\n",
              "      <td>3</td>\n",
              "      <td>1</td>\n",
              "      <td>40.0</td>\n",
              "      <td>1</td>\n",
              "      <td>0</td>\n",
              "      <td>2.0</td>\n",
              "      <td>1</td>\n",
              "    </tr>\n",
              "    <tr>\n",
              "      <th>3</th>\n",
              "      <td>1</td>\n",
              "      <td>117</td>\n",
              "      <td>0</td>\n",
              "      <td>0</td>\n",
              "      <td>0</td>\n",
              "      <td>3</td>\n",
              "      <td>3</td>\n",
              "      <td>41.0</td>\n",
              "      <td>4</td>\n",
              "      <td>0</td>\n",
              "      <td>1.0</td>\n",
              "      <td>1</td>\n",
              "    </tr>\n",
              "    <tr>\n",
              "      <th>4</th>\n",
              "      <td>3</td>\n",
              "      <td>131</td>\n",
              "      <td>0</td>\n",
              "      <td>2</td>\n",
              "      <td>0</td>\n",
              "      <td>1</td>\n",
              "      <td>1</td>\n",
              "      <td>42.0</td>\n",
              "      <td>2</td>\n",
              "      <td>0</td>\n",
              "      <td>4.0</td>\n",
              "      <td>1</td>\n",
              "    </tr>\n",
              "  </tbody>\n",
              "</table>\n",
              "</div>"
            ],
            "text/plain": [
              "   program_type  program_duration  ...  trainee_engagement_rating  is_pass\n",
              "0             5               136  ...                        1.0        0\n",
              "1             1               131  ...                        3.0        1\n",
              "2             6               120  ...                        2.0        1\n",
              "3             1               117  ...                        1.0        1\n",
              "4             3               131  ...                        4.0        1\n",
              "\n",
              "[5 rows x 12 columns]"
            ]
          },
          "metadata": {
            "tags": []
          },
          "execution_count": 58
        }
      ]
    },
    {
      "cell_type": "code",
      "metadata": {
        "id": "-iZFGYrrG8bD",
        "colab_type": "code",
        "outputId": "bd97e81c-e47b-4974-a1f1-d1d6b94b00c4",
        "colab": {
          "base_uri": "https://localhost:8080/",
          "height": 428
        }
      },
      "source": [
        "matrix=data.corr()\n",
        "matrix"
      ],
      "execution_count": 0,
      "outputs": [
        {
          "output_type": "execute_result",
          "data": {
            "text/html": [
              "<div>\n",
              "<style scoped>\n",
              "    .dataframe tbody tr th:only-of-type {\n",
              "        vertical-align: middle;\n",
              "    }\n",
              "\n",
              "    .dataframe tbody tr th {\n",
              "        vertical-align: top;\n",
              "    }\n",
              "\n",
              "    .dataframe thead th {\n",
              "        text-align: right;\n",
              "    }\n",
              "</style>\n",
              "<table border=\"1\" class=\"dataframe\">\n",
              "  <thead>\n",
              "    <tr style=\"text-align: right;\">\n",
              "      <th></th>\n",
              "      <th>program_type</th>\n",
              "      <th>program_duration</th>\n",
              "      <th>test_type</th>\n",
              "      <th>difficulty_level</th>\n",
              "      <th>gender</th>\n",
              "      <th>education</th>\n",
              "      <th>city_tier</th>\n",
              "      <th>age</th>\n",
              "      <th>total_programs_enrolled</th>\n",
              "      <th>is_handicapped</th>\n",
              "      <th>trainee_engagement_rating</th>\n",
              "      <th>is_pass</th>\n",
              "    </tr>\n",
              "  </thead>\n",
              "  <tbody>\n",
              "    <tr>\n",
              "      <th>program_type</th>\n",
              "      <td>1.000000</td>\n",
              "      <td>0.132472</td>\n",
              "      <td>0.174657</td>\n",
              "      <td>-0.188899</td>\n",
              "      <td>0.308919</td>\n",
              "      <td>0.082249</td>\n",
              "      <td>-0.005050</td>\n",
              "      <td>0.003590</td>\n",
              "      <td>-0.118101</td>\n",
              "      <td>0.026068</td>\n",
              "      <td>0.353930</td>\n",
              "      <td>0.082043</td>\n",
              "    </tr>\n",
              "    <tr>\n",
              "      <th>program_duration</th>\n",
              "      <td>0.132472</td>\n",
              "      <td>1.000000</td>\n",
              "      <td>-0.071348</td>\n",
              "      <td>0.006643</td>\n",
              "      <td>0.113637</td>\n",
              "      <td>-0.008252</td>\n",
              "      <td>-0.022368</td>\n",
              "      <td>-0.015576</td>\n",
              "      <td>-0.010128</td>\n",
              "      <td>-0.009341</td>\n",
              "      <td>0.098739</td>\n",
              "      <td>0.003545</td>\n",
              "    </tr>\n",
              "    <tr>\n",
              "      <th>test_type</th>\n",
              "      <td>0.174657</td>\n",
              "      <td>-0.071348</td>\n",
              "      <td>1.000000</td>\n",
              "      <td>-0.687318</td>\n",
              "      <td>-0.000360</td>\n",
              "      <td>0.025060</td>\n",
              "      <td>0.011905</td>\n",
              "      <td>0.067074</td>\n",
              "      <td>-0.017638</td>\n",
              "      <td>0.014027</td>\n",
              "      <td>0.113380</td>\n",
              "      <td>0.151547</td>\n",
              "    </tr>\n",
              "    <tr>\n",
              "      <th>difficulty_level</th>\n",
              "      <td>-0.188899</td>\n",
              "      <td>0.006643</td>\n",
              "      <td>-0.687318</td>\n",
              "      <td>1.000000</td>\n",
              "      <td>0.048188</td>\n",
              "      <td>-0.054269</td>\n",
              "      <td>-0.021719</td>\n",
              "      <td>-0.042078</td>\n",
              "      <td>0.068928</td>\n",
              "      <td>-0.023492</td>\n",
              "      <td>-0.016493</td>\n",
              "      <td>-0.113142</td>\n",
              "    </tr>\n",
              "    <tr>\n",
              "      <th>gender</th>\n",
              "      <td>0.308919</td>\n",
              "      <td>0.113637</td>\n",
              "      <td>-0.000360</td>\n",
              "      <td>0.048188</td>\n",
              "      <td>1.000000</td>\n",
              "      <td>-0.062751</td>\n",
              "      <td>-0.069017</td>\n",
              "      <td>-0.009699</td>\n",
              "      <td>0.059886</td>\n",
              "      <td>-0.048193</td>\n",
              "      <td>0.267887</td>\n",
              "      <td>0.020376</td>\n",
              "    </tr>\n",
              "    <tr>\n",
              "      <th>education</th>\n",
              "      <td>0.082249</td>\n",
              "      <td>-0.008252</td>\n",
              "      <td>0.025060</td>\n",
              "      <td>-0.054269</td>\n",
              "      <td>-0.062751</td>\n",
              "      <td>1.000000</td>\n",
              "      <td>0.088312</td>\n",
              "      <td>-0.048059</td>\n",
              "      <td>-0.061730</td>\n",
              "      <td>0.071734</td>\n",
              "      <td>-0.048730</td>\n",
              "      <td>-0.080164</td>\n",
              "    </tr>\n",
              "    <tr>\n",
              "      <th>city_tier</th>\n",
              "      <td>-0.005050</td>\n",
              "      <td>-0.022368</td>\n",
              "      <td>0.011905</td>\n",
              "      <td>-0.021719</td>\n",
              "      <td>-0.069017</td>\n",
              "      <td>0.088312</td>\n",
              "      <td>1.000000</td>\n",
              "      <td>-0.060978</td>\n",
              "      <td>0.016746</td>\n",
              "      <td>0.060323</td>\n",
              "      <td>-0.052688</td>\n",
              "      <td>-0.068663</td>\n",
              "    </tr>\n",
              "    <tr>\n",
              "      <th>age</th>\n",
              "      <td>0.003590</td>\n",
              "      <td>-0.015576</td>\n",
              "      <td>0.067074</td>\n",
              "      <td>-0.042078</td>\n",
              "      <td>-0.009699</td>\n",
              "      <td>-0.048059</td>\n",
              "      <td>-0.060978</td>\n",
              "      <td>1.000000</td>\n",
              "      <td>-0.050001</td>\n",
              "      <td>-0.027871</td>\n",
              "      <td>0.180179</td>\n",
              "      <td>0.260408</td>\n",
              "    </tr>\n",
              "    <tr>\n",
              "      <th>total_programs_enrolled</th>\n",
              "      <td>-0.118101</td>\n",
              "      <td>-0.010128</td>\n",
              "      <td>-0.017638</td>\n",
              "      <td>0.068928</td>\n",
              "      <td>0.059886</td>\n",
              "      <td>-0.061730</td>\n",
              "      <td>0.016746</td>\n",
              "      <td>-0.050001</td>\n",
              "      <td>1.000000</td>\n",
              "      <td>0.029886</td>\n",
              "      <td>0.083631</td>\n",
              "      <td>-0.031695</td>\n",
              "    </tr>\n",
              "    <tr>\n",
              "      <th>is_handicapped</th>\n",
              "      <td>0.026068</td>\n",
              "      <td>-0.009341</td>\n",
              "      <td>0.014027</td>\n",
              "      <td>-0.023492</td>\n",
              "      <td>-0.048193</td>\n",
              "      <td>0.071734</td>\n",
              "      <td>0.060323</td>\n",
              "      <td>-0.027871</td>\n",
              "      <td>0.029886</td>\n",
              "      <td>1.000000</td>\n",
              "      <td>-0.034080</td>\n",
              "      <td>-0.036967</td>\n",
              "    </tr>\n",
              "    <tr>\n",
              "      <th>trainee_engagement_rating</th>\n",
              "      <td>0.353930</td>\n",
              "      <td>0.098739</td>\n",
              "      <td>0.113380</td>\n",
              "      <td>-0.016493</td>\n",
              "      <td>0.267887</td>\n",
              "      <td>-0.048730</td>\n",
              "      <td>-0.052688</td>\n",
              "      <td>0.180179</td>\n",
              "      <td>0.083631</td>\n",
              "      <td>-0.034080</td>\n",
              "      <td>1.000000</td>\n",
              "      <td>0.197612</td>\n",
              "    </tr>\n",
              "    <tr>\n",
              "      <th>is_pass</th>\n",
              "      <td>0.082043</td>\n",
              "      <td>0.003545</td>\n",
              "      <td>0.151547</td>\n",
              "      <td>-0.113142</td>\n",
              "      <td>0.020376</td>\n",
              "      <td>-0.080164</td>\n",
              "      <td>-0.068663</td>\n",
              "      <td>0.260408</td>\n",
              "      <td>-0.031695</td>\n",
              "      <td>-0.036967</td>\n",
              "      <td>0.197612</td>\n",
              "      <td>1.000000</td>\n",
              "    </tr>\n",
              "  </tbody>\n",
              "</table>\n",
              "</div>"
            ],
            "text/plain": [
              "                           program_type  ...   is_pass\n",
              "program_type                   1.000000  ...  0.082043\n",
              "program_duration               0.132472  ...  0.003545\n",
              "test_type                      0.174657  ...  0.151547\n",
              "difficulty_level              -0.188899  ... -0.113142\n",
              "gender                         0.308919  ...  0.020376\n",
              "education                      0.082249  ... -0.080164\n",
              "city_tier                     -0.005050  ... -0.068663\n",
              "age                            0.003590  ...  0.260408\n",
              "total_programs_enrolled       -0.118101  ... -0.031695\n",
              "is_handicapped                 0.026068  ... -0.036967\n",
              "trainee_engagement_rating      0.353930  ...  0.197612\n",
              "is_pass                        0.082043  ...  1.000000\n",
              "\n",
              "[12 rows x 12 columns]"
            ]
          },
          "metadata": {
            "tags": []
          },
          "execution_count": 60
        }
      ]
    },
    {
      "cell_type": "code",
      "metadata": {
        "id": "QAMTgTQCHDic",
        "colab_type": "code",
        "outputId": "960c1062-129a-4c71-8822-8530dc6070d1",
        "colab": {
          "base_uri": "https://localhost:8080/",
          "height": 254
        }
      },
      "source": [
        "data.var()"
      ],
      "execution_count": 0,
      "outputs": [
        {
          "output_type": "execute_result",
          "data": {
            "text/plain": [
              "program_type                  3.302346\n",
              "program_duration             47.467678\n",
              "test_type                     0.240925\n",
              "difficulty_level              0.901004\n",
              "gender                        0.248864\n",
              "education                     1.317076\n",
              "city_tier                     1.023309\n",
              "age                          57.981611\n",
              "total_programs_enrolled       1.539625\n",
              "is_handicapped                0.081753\n",
              "trainee_engagement_rating     1.756589\n",
              "is_pass                       0.211819\n",
              "dtype: float64"
            ]
          },
          "metadata": {
            "tags": []
          },
          "execution_count": 61
        }
      ]
    },
    {
      "cell_type": "code",
      "metadata": {
        "id": "cniyesGOHOrH",
        "colab_type": "code",
        "colab": {}
      },
      "source": [
        "X=data.drop('is_pass',axis=1)\n",
        "Y=data['is_pass']"
      ],
      "execution_count": 0,
      "outputs": []
    },
    {
      "cell_type": "code",
      "metadata": {
        "id": "mrPaD3CLHcdr",
        "colab_type": "code",
        "colab": {}
      },
      "source": [
        "from sklearn.model_selection import train_test_split\n",
        "xtrain,xtest,ytrain,ytest=train_test_split(X,Y,random_state=2)"
      ],
      "execution_count": 0,
      "outputs": []
    },
    {
      "cell_type": "code",
      "metadata": {
        "id": "73Ru5iltHtB_",
        "colab_type": "code",
        "outputId": "0142d6b3-f7b9-41b2-dc9d-6c83bb80c8f8",
        "colab": {
          "base_uri": "https://localhost:8080/",
          "height": 201
        }
      },
      "source": [
        "from sklearn.linear_model import LogisticRegression\n",
        "from sklearn.metrics import accuracy_score,classification_report\n",
        "log=LogisticRegression()\n",
        "log.fit(xtrain,ytrain)\n",
        "predict=log.predict(xtest)\n",
        "print(accuracy_score(ytest,predict))"
      ],
      "execution_count": 19,
      "outputs": [
        {
          "output_type": "stream",
          "text": [
            "0.7133482801990485\n"
          ],
          "name": "stdout"
        },
        {
          "output_type": "stream",
          "text": [
            "/usr/local/lib/python3.6/dist-packages/sklearn/linear_model/_logistic.py:940: ConvergenceWarning: lbfgs failed to converge (status=1):\n",
            "STOP: TOTAL NO. of ITERATIONS REACHED LIMIT.\n",
            "\n",
            "Increase the number of iterations (max_iter) or scale the data as shown in:\n",
            "    https://scikit-learn.org/stable/modules/preprocessing.html\n",
            "Please also refer to the documentation for alternative solver options:\n",
            "    https://scikit-learn.org/stable/modules/linear_model.html#logistic-regression\n",
            "  extra_warning_msg=_LOGISTIC_SOLVER_CONVERGENCE_MSG)\n"
          ],
          "name": "stderr"
        }
      ]
    },
    {
      "cell_type": "code",
      "metadata": {
        "id": "1G9soBbVIG0d",
        "colab_type": "code",
        "outputId": "ce89e18d-1f2c-4f4b-d86f-bd0a02e9533c",
        "colab": {
          "base_uri": "https://localhost:8080/",
          "height": 35
        }
      },
      "source": [
        "from sklearn.ensemble import RandomForestClassifier\n",
        "rfc=RandomForestClassifier()\n",
        "rfc.fit(xtrain,ytrain)\n",
        "pred=rfc.predict(xtest)\n",
        "print(accuracy_score(ytest,pred))"
      ],
      "execution_count": 20,
      "outputs": [
        {
          "output_type": "stream",
          "text": [
            "0.8292229452616613\n"
          ],
          "name": "stdout"
        }
      ]
    },
    {
      "cell_type": "code",
      "metadata": {
        "id": "r86cD0sDIcsJ",
        "colab_type": "code",
        "outputId": "a8dc52c0-816c-4378-c7f5-5fab04b30148",
        "colab": {
          "base_uri": "https://localhost:8080/",
          "height": 181
        }
      },
      "source": [
        "print(classification_report(ytest,pred))"
      ],
      "execution_count": 21,
      "outputs": [
        {
          "output_type": "stream",
          "text": [
            "              precision    recall  f1-score   support\n",
            "\n",
            "           0       0.74      0.68      0.71      5572\n",
            "           1       0.86      0.90      0.88     12715\n",
            "\n",
            "    accuracy                           0.83     18287\n",
            "   macro avg       0.80      0.79      0.79     18287\n",
            "weighted avg       0.83      0.83      0.83     18287\n",
            "\n"
          ],
          "name": "stdout"
        }
      ]
    },
    {
      "cell_type": "code",
      "metadata": {
        "id": "GzQYgHYqJwdT",
        "colab_type": "code",
        "colab": {
          "base_uri": "https://localhost:8080/",
          "height": 35
        },
        "outputId": "d400f8bb-7e32-4bb1-95fb-4e0b500bb8f7"
      },
      "source": [
        "from xgboost import XGBClassifier\n",
        "xgb=XGBClassifier()\n",
        "xgb.fit(xtrain,ytrain)\n",
        "pred1=xgb.predict(xtest)\n",
        "print(accuracy_score(ytest,pred1))"
      ],
      "execution_count": 22,
      "outputs": [
        {
          "output_type": "stream",
          "text": [
            "0.8215672335538907\n"
          ],
          "name": "stdout"
        }
      ]
    },
    {
      "cell_type": "code",
      "metadata": {
        "id": "UgWALQW9KOrA",
        "colab_type": "code",
        "colab": {}
      },
      "source": [
        ""
      ],
      "execution_count": 0,
      "outputs": []
    }
  ]
}